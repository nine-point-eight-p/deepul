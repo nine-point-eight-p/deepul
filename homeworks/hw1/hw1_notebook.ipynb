{
  "nbformat": 4,
  "nbformat_minor": 0,
  "metadata": {
    "colab": {
      "name": "Copy of Homework 1 Autoregressive Models.ipynb",
      "provenance": [],
      "include_colab_link": true
    },
    "kernelspec": {
      "name": "python3",
      "display_name": "Python 3"
    },
    "accelerator": "GPU"
  },
  "cells": [
    {
      "cell_type": "markdown",
      "metadata": {
        "id": "view-in-github",
        "colab_type": "text"
      },
      "source": [
        "<a href=\"https://colab.research.google.com/github/nine-point-eight-p/deepul/blob/master/homeworks/hw1/hw1_notebook.ipynb\" target=\"_parent\"><img src=\"https://colab.research.google.com/assets/colab-badge.svg\" alt=\"Open In Colab\"/></a>"
      ]
    },
    {
      "cell_type": "markdown",
      "metadata": {
        "id": "Rdy1FtrRpGcC"
      },
      "source": [
        "# Getting Started\n",
        "\n",
        "## Overview\n",
        "This semester, all homeworks will be conducted through Google Colab notebooks. All code for the homework assignment will be written and run in this notebook. Running in Colab will automatically provide a GPU, but you may also run this notebook locally by following [these instructions](https://research.google.com/colaboratory/local-runtimes.html) if you wish to use your own GPU.\n",
        "\n",
        "You will save images in the notebooks to use and fill out a given LaTeX template which will be submitted to Gradescope, along with your notebook code.\n",
        "\n",
        "## Using Colab\n",
        "On the left-hand side, you can click the different icons to see a Table of Contents of the assignment, as well as local files accessible through the notebook.\n",
        "\n",
        "Make sure to go to **Runtime -> Change runtime type** and select **GPU** as the hardware accelerator. This allows you to use a GPU. Run the cells below to get started on the assignment. Note that a session is open for a maximum of 12 hours, and using too much GPU compute may result in restricted access for a short period of time. Please start the homework early so you have ample time to work.\n",
        "\n",
        "**If you loaded this notebook from clicking \"Open in Colab\" from github, you will need to save it to your own Google Drive to keep your work.**\n",
        "\n",
        "## General Tips\n",
        "In each homework problem, you will implement an autoregressive model and run it on two datasets (dataset 1 and dataset 2). The expected outputs for dataset 1 are already provided to help as a sanity check.\n",
        "\n",
        "Feel free to print whatever output (e.g. debugging code, training code, etc) you want, as the graded submission will be the submitted pdf with images.\n",
        "\n",
        "After you complete the assignment, download all of the image outputted in the results/ folder and upload them to the figure folder in the given latex template.\n",
        "\n",
        "Run the cells below to download and load up the starter code."
      ]
    },
    {
      "cell_type": "code",
      "metadata": {
        "id": "wUVy2glDtoaR",
        "colab": {
          "base_uri": "https://localhost:8080/"
        },
        "outputId": "f950fbca-4971-404a-d103-7a2808ac9f9a"
      },
      "source": [
        "!if [ -d deepul ]; then rm -Rf deepul; fi\n",
        "!git clone https://github.com/rll/deepul.git\n",
        "!unzip -qq deepul/homeworks/hw1/data/hw1_data.zip -d deepul/homeworks/hw1/data/\n",
        "!pip install ./deepul"
      ],
      "execution_count": 3,
      "outputs": [
        {
          "output_type": "stream",
          "name": "stdout",
          "text": [
            "Cloning into 'deepul'...\n",
            "remote: Enumerating objects: 758, done.\u001b[K\n",
            "remote: Total 758 (delta 0), reused 0 (delta 0), pack-reused 758\u001b[K\n",
            "Receiving objects: 100% (758/758), 118.40 MiB | 25.37 MiB/s, done.\n",
            "Resolving deltas: 100% (347/347), done.\n",
            "Updating files: 100% (129/129), done.\n",
            "Processing ./deepul\n",
            "  Preparing metadata (setup.py) ... \u001b[?25l\u001b[?25hdone\n",
            "Building wheels for collected packages: deepul\n",
            "  Building wheel for deepul (setup.py) ... \u001b[?25l\u001b[?25hdone\n",
            "  Created wheel for deepul: filename=deepul-0.1.0-py3-none-any.whl size=16619 sha256=3070b291c74d132f2d2d9f7c2a03fb7b259225fa8426280611446ed26bc64453\n",
            "  Stored in directory: /tmp/pip-ephem-wheel-cache-24l0_6tc/wheels/89/4d/b7/d666c1fdc2a51554c762f2cfe90dad1098871e7fea5c53eed4\n",
            "Successfully built deepul\n",
            "Installing collected packages: deepul\n",
            "Successfully installed deepul-0.1.0\n"
          ]
        }
      ]
    },
    {
      "cell_type": "code",
      "metadata": {
        "id": "ZHWosWrbpO5Y"
      },
      "source": [
        "from deepul.hw1_helper import *"
      ],
      "execution_count": 4,
      "outputs": []
    },
    {
      "cell_type": "code",
      "source": [
        "import torch\n",
        "import torch.nn as nn\n",
        "import torch.nn.functional as F\n",
        "import torch.optim as optim\n",
        "import torch.distributions as distributions\n",
        "\n",
        "from torch.utils.data import DataLoader"
      ],
      "metadata": {
        "id": "to_aWcQHK9dv"
      },
      "execution_count": 34,
      "outputs": []
    },
    {
      "cell_type": "markdown",
      "metadata": {
        "id": "7E4CMktzo100"
      },
      "source": [
        "# Question 1: 1D Data\n",
        "\n",
        "In this question, we will train simple generative models on discrete 1D data.\n",
        "\n",
        "Execute the cell below to visualize our datasets"
      ]
    },
    {
      "cell_type": "code",
      "metadata": {
        "id": "ehhv2FZGo4_b",
        "colab": {
          "base_uri": "https://localhost:8080/",
          "height": 963
        },
        "outputId": "6b337290-d007-47d9-cb97-eee8521aec23"
      },
      "source": [
        "visualize_q1_data(dset_type=1)\n",
        "visualize_q1_data(dset_type=2)"
      ],
      "execution_count": 6,
      "outputs": [
        {
          "output_type": "stream",
          "name": "stdout",
          "text": [
            "Dataset 1\n"
          ]
        },
        {
          "output_type": "display_data",
          "data": {
            "text/plain": [
              "<Figure size 640x480 with 2 Axes>"
            ],
            "image/png": "[encoded data removed]"
          },
          "metadata": {}
        },
        {
          "output_type": "stream",
          "name": "stdout",
          "text": [
            "Dataset 2\n"
          ]
        },
        {
          "output_type": "display_data",
          "data": {
            "text/plain": [
              "<Figure size 640x480 with 2 Axes>"
            ],
            "image/png": "[encoded data removed]"
          },
          "metadata": {}
        }
      ]
    },
    {
      "cell_type": "markdown",
      "metadata": {
        "id": "kSGTVznZqAR3"
      },
      "source": [
        "## Part (a) Fitting a Histogram\n",
        "\n",
        "Let $\\theta = (\\theta_0, \\dots, \\theta_{d-1}) \\in \\mathbb{R}^d$ and define the model $p_\\theta(x) = \\frac{e^{\\theta_x}}{\\sum_{x'}e^{\\theta_{x'}}}$\n",
        "\n",
        "Fit $p_\\theta$ with maximum likelihood via stochastic gradient descent on the training set, using $\\theta$ initialized to zero. Use your favorite version of stochastic gradient descent, and optimize your hyperparameters on a validation set of your choice.\n",
        "\n",
        "**You will provide these deliverables**\n",
        "\n",
        "\n",
        "1.   Over the course of training, record the average negative log-likelihood (nats / dim) of the training data (per minibatch) and test data (for your entire test set). Code is provided that automatically plots the training curves.\n",
        "2.   Report the final test set performance of your final model\n",
        "3. Plot the model probabilities in a bar graph with $\\{0,\\dots,d-1\\}$ on the x-axis and a real number in $[0,1]$ on the y-axis.\n",
        "\n",
        "\n"
      ]
    },
    {
      "cell_type": "markdown",
      "metadata": {
        "id": "Yg0Jmo1PSaE4"
      },
      "source": [
        "### Solution\n",
        "Fill out the function below and return the necessary arguments. Feel free to create more cells if need be."
      ]
    },
    {
      "cell_type": "code",
      "source": [
        "class HistogramFitter(nn.Module):\n",
        "  def __init__(self, d):\n",
        "    super().__init__()\n",
        "    self.d = d\n",
        "    self.logits = nn.Parameter(torch.zeros(d))\n",
        "\n",
        "  def forward(self):\n",
        "    return F.softmax(self.logits, dim=0)\n",
        "\n",
        "  def loss(self, target):\n",
        "    # Use UNORMALIZED logits\n",
        "    # Size: logits (N, C), target (N)\n",
        "    logits = self.logits.repeat(target.shape[0], 1)\n",
        "    return F.cross_entropy(logits, target.long())\n",
        "\n",
        "def get_dist(data, size=0):\n",
        "  if not isinstance(data, torch.Tensor):\n",
        "    data = torch.tensor(data)\n",
        "  return torch.bincount(data, minlength=size) / len(data)\n",
        "\n",
        "def train(model, data_loader, criterion, optimizer):\n",
        "  model.train()\n",
        "  train_losses = []\n",
        "  for data in data_loader:\n",
        "    # 1) Use total distribution as target (processed in single batch)\n",
        "    target = get_dist(data.cuda(), model.d)\n",
        "    # All of these working??\n",
        "    loss = criterion(model().cuda(), target)\n",
        "    # loss = criterion(model.logits, target)\n",
        "    # loss = model.loss(target)\n",
        "    # 2) Use class indices (processed in multiple batches)\n",
        "    loss = model.loss(data.cuda())\n",
        "\n",
        "    optimizer.zero_grad()\n",
        "    loss.backward()\n",
        "    optimizer.step()\n",
        "    train_losses.append(loss.item())\n",
        "  return train_losses\n",
        "\n",
        "def test(model, data_loader, criterion):\n",
        "  model.eval()\n",
        "  with torch.no_grad():\n",
        "    total_loss = 0\n",
        "    # output = model().cuda()\n",
        "    for data in data_loader:\n",
        "      # 1) Use total distribution as target (processed in single batch)\n",
        "      target = get_dist(data.cuda(), model.d)\n",
        "      # All of these working?\n",
        "      loss = criterion(model().cuda(), target)\n",
        "      # loss = criterion(model.logits, target)\n",
        "      # loss = model.loss(target)\n",
        "      # 2) Use class indices (processed in multiple batches)\n",
        "      loss = model.loss(data.cuda())\n",
        "      total_loss += loss * len(data)\n",
        "\n",
        "  avg_loss = total_loss / len(data_loader.dataset)\n",
        "  return avg_loss.item()\n",
        "\n",
        "def train_epochs(model, train_loader, test_loader, hyper):\n",
        "  num_epochs, learning_rate = hyper['num_epochs'], hyper['learning_rate']\n",
        "  optimizer = optim.Adam(model.parameters(), lr=learning_rate)\n",
        "  criterion = nn.CrossEntropyLoss()\n",
        "\n",
        "  train_losses = []\n",
        "  test_losses = []\n",
        "\n",
        "  for epoch in range(num_epochs):\n",
        "    train_losses.extend(train(model, train_loader, criterion, optimizer))\n",
        "    test_loss = test(model, test_loader, criterion)\n",
        "    test_losses.append(test_loss)\n",
        "    print(f'Epoch {epoch}, test loss: {test_loss}')\n",
        "\n",
        "  return train_losses, test_losses"
      ],
      "metadata": {
        "id": "Sc2aCSpv_jEz"
      },
      "execution_count": 51,
      "outputs": []
    },
    {
      "cell_type": "code",
      "metadata": {
        "id": "BJNa6dHKpEQU"
      },
      "source": [
        "def q1_a(train_data, test_data, d, dset_id):\n",
        "  \"\"\"\n",
        "  train_data: An (n_train,) numpy array of integers in {0, ..., d-1}\n",
        "  test_data: An (n_test,) numpy array of integers in {0, .., d-1}\n",
        "  d: The number of possible discrete values for random variable x\n",
        "  dset_id: An identifying number of which dataset is given (1 or 2). Most likely\n",
        "              used to set different hyperparameters for different datasets\n",
        "\n",
        "  Returns\n",
        "  - a (# of training iterations,) numpy array of train_losses evaluated every minibatch\n",
        "  - a (# of epochs + 1,) numpy array of test_losses evaluated once at initialization and after each epoch\n",
        "  - a numpy array of size (d,) of model probabilities\n",
        "  \"\"\"\n",
        "\n",
        "  \"\"\" YOUR CODE HERE \"\"\"\n",
        "  hyper = {\n",
        "    1: {\n",
        "      \"num_epochs\": 50,\n",
        "      \"batch_size\": 128,\n",
        "      \"learning_rate\": 0.1\n",
        "    },\n",
        "    2: {\n",
        "      \"num_epochs\": 20,\n",
        "      \"batch_size\": 128,\n",
        "      \"learning_rate\": 0.003,\n",
        "    },\n",
        "  }\n",
        "\n",
        "  model = HistogramFitter(d).cuda()\n",
        "\n",
        "  train_loader = DataLoader(\n",
        "    train_data,\n",
        "    batch_size=len(train_data), # for single batch\n",
        "    # batch_size=hyper[dset_id][\"batch_size\"],\n",
        "    shuffle=True,\n",
        "  )\n",
        "  test_loader = DataLoader(\n",
        "    test_data,\n",
        "    batch_size=len(test_data), # for single batch\n",
        "    # batch_size=hyper[dset_id][\"batch_size\"],\n",
        "  )\n",
        "\n",
        "  train_losses, test_losses = train_epochs(model, train_loader, test_loader, hyper[dset_id])\n",
        "\n",
        "  # KL divergence between ground truth and model\n",
        "  # NOTE: Slight difference in KL between this implementation and official solution.\n",
        "  true_dist = distributions.Categorical(get_dist(test_data, d).cuda())\n",
        "  model_dist = distributions.Categorical(model())\n",
        "  kl_div = distributions.kl.kl_divergence(true_dist, model_dist)\n",
        "  print(f'KL divergence: {kl_div.item()}')\n",
        "\n",
        "  return np.array(train_losses), np.array(test_losses), model().cpu().detach().numpy()\n"
      ],
      "execution_count": 49,
      "outputs": []
    },
    {
      "cell_type": "markdown",
      "metadata": {
        "id": "SiGBSP-ESeIj"
      },
      "source": [
        "### Results\n",
        "\n",
        "Once you've implemented `q1_a`, execute the cells below to visualize and save your results\n",
        "\n"
      ]
    },
    {
      "cell_type": "code",
      "metadata": {
        "id": "qjK_KReXsqYa",
        "outputId": "c3e349b1-bb7a-4221-c91a-6ce481455d91",
        "colab": {
          "base_uri": "https://localhost:8080/",
          "height": 1000
        }
      },
      "source": [
        "q1_save_results(1, 'a', q1_a)"
      ],
      "execution_count": 52,
      "outputs": [
        {
          "output_type": "stream",
          "name": "stdout",
          "text": [
            "Epoch 0, test loss: 2.881366729736328\n",
            "Epoch 1, test loss: 2.7775368690490723\n",
            "Epoch 2, test loss: 2.6841766834259033\n",
            "Epoch 3, test loss: 2.599771022796631\n",
            "Epoch 4, test loss: 2.5239548683166504\n",
            "Epoch 5, test loss: 2.4567883014678955\n",
            "Epoch 6, test loss: 2.397993803024292\n",
            "Epoch 7, test loss: 2.3469302654266357\n",
            "Epoch 8, test loss: 2.3028886318206787\n",
            "Epoch 9, test loss: 2.2651360034942627\n",
            "Epoch 10, test loss: 2.2328643798828125\n",
            "Epoch 11, test loss: 2.205279588699341\n",
            "Epoch 12, test loss: 2.181698799133301\n",
            "Epoch 13, test loss: 2.161587953567505\n",
            "Epoch 14, test loss: 2.1445446014404297\n",
            "Epoch 15, test loss: 2.1302573680877686\n",
            "Epoch 16, test loss: 2.118466854095459\n",
            "Epoch 17, test loss: 2.10892915725708\n",
            "Epoch 18, test loss: 2.1013882160186768\n",
            "Epoch 19, test loss: 2.095567464828491\n",
            "Epoch 20, test loss: 2.091167688369751\n",
            "Epoch 21, test loss: 2.0878756046295166\n",
            "Epoch 22, test loss: 2.0853872299194336\n",
            "Epoch 23, test loss: 2.0834295749664307\n",
            "Epoch 24, test loss: 2.0817902088165283\n",
            "Epoch 25, test loss: 2.080333948135376\n",
            "Epoch 26, test loss: 2.079003095626831\n",
            "Epoch 27, test loss: 2.07780385017395\n",
            "Epoch 28, test loss: 2.0767815113067627\n",
            "Epoch 29, test loss: 2.0759975910186768\n",
            "Epoch 30, test loss: 2.0755057334899902\n",
            "Epoch 31, test loss: 2.0753390789031982\n",
            "Epoch 32, test loss: 2.0754990577697754\n",
            "Epoch 33, test loss: 2.075953722000122\n",
            "Epoch 34, test loss: 2.0766446590423584\n",
            "Epoch 35, test loss: 2.0774893760681152\n",
            "Epoch 36, test loss: 2.078390598297119\n",
            "Epoch 37, test loss: 2.0792489051818848\n",
            "Epoch 38, test loss: 2.079968214035034\n",
            "Epoch 39, test loss: 2.0804669857025146\n",
            "Epoch 40, test loss: 2.0806853771209717\n",
            "Epoch 41, test loss: 2.0805933475494385\n",
            "Epoch 42, test loss: 2.0801918506622314\n",
            "Epoch 43, test loss: 2.0795116424560547\n",
            "Epoch 44, test loss: 2.0786073207855225\n",
            "Epoch 45, test loss: 2.0775465965270996\n",
            "Epoch 46, test loss: 2.076401710510254\n",
            "Epoch 47, test loss: 2.0752365589141846\n",
            "Epoch 48, test loss: 2.0741019248962402\n",
            "Epoch 49, test loss: 2.0730292797088623\n",
            "KL divergence: 0.056255776435136795\n",
            "Final Test Loss: 2.0730\n"
          ]
        },
        {
          "output_type": "display_data",
          "data": {
            "text/plain": [
              "<Figure size 640x480 with 1 Axes>"
            ],
            "image/png": "[encoded data removed]"
          },
          "metadata": {}
        },
        {
          "output_type": "display_data",
          "data": {
            "text/plain": [
              "<Figure size 640x480 with 1 Axes>"
            ],
            "image/png": "[encoded data removed]"
          },
          "metadata": {}
        }
      ]
    },
    {
      "cell_type": "code",
      "metadata": {
        "id": "sJVOUEaaZXcA",
        "colab": {
          "base_uri": "https://localhost:8080/",
          "height": 1000
        },
        "outputId": "c0e3af17-bfb8-4a4a-a6ef-4e7a8b7fbb54"
      },
      "source": [
        "q1_save_results(2, 'a', q1_a)"
      ],
      "execution_count": 53,
      "outputs": [
        {
          "output_type": "stream",
          "name": "stdout",
          "text": [
            "Epoch 0, test loss: 4.602525234222412\n",
            "Epoch 1, test loss: 4.59989070892334\n",
            "Epoch 2, test loss: 4.597261905670166\n",
            "Epoch 3, test loss: 4.594644546508789\n",
            "Epoch 4, test loss: 4.592034816741943\n",
            "Epoch 5, test loss: 4.589434623718262\n",
            "Epoch 6, test loss: 4.586844444274902\n",
            "Epoch 7, test loss: 4.584260940551758\n",
            "Epoch 8, test loss: 4.581689357757568\n",
            "Epoch 9, test loss: 4.57912540435791\n",
            "Epoch 10, test loss: 4.5765700340271\n",
            "Epoch 11, test loss: 4.574024200439453\n",
            "Epoch 12, test loss: 4.571488380432129\n",
            "Epoch 13, test loss: 4.568960189819336\n",
            "Epoch 14, test loss: 4.566439628601074\n",
            "Epoch 15, test loss: 4.563930034637451\n",
            "Epoch 16, test loss: 4.561428070068359\n",
            "Epoch 17, test loss: 4.558935642242432\n",
            "Epoch 18, test loss: 4.556450843811035\n",
            "Epoch 19, test loss: 4.553977966308594\n",
            "KL divergence: 0.5459511876106262\n",
            "Final Test Loss: 4.5540\n"
          ]
        },
        {
          "output_type": "display_data",
          "data": {
            "text/plain": [
              "<Figure size 640x480 with 1 Axes>"
            ],
            "image/png": "[encoded data removed]"
          },
          "metadata": {}
        },
        {
          "output_type": "display_data",
          "data": {
            "text/plain": [
              "<Figure size 640x480 with 1 Axes>"
            ],
            "image/png": "[encoded data removed]"
          },
          "metadata": {}
        }
      ]
    },
    {
      "cell_type": "markdown",
      "metadata": {
        "id": "DiyFXlj0rfcr"
      },
      "source": [
        "## Part (b) Fitting Discretized Mixture of Logistics\n",
        "\n",
        "Let us model $p_\\theta(x)$ as a **discretized** mixture of 4 logistics such that $p_\\theta(x) = \\sum_{i=1}^4 \\pi_i[\\sigma((x+0.5 - \\mu_i)/s_i) - \\sigma((x-0.5-\\mu_i)/s_i)]$\n",
        "\n",
        "For the edge case of when $x = 0$, we replace $x-0.5$ by $-\\infty$, and for $x = d-1$, we replace $x+0.5$ by $\\infty$.\n",
        "\n",
        "You may find the [PixelCNN++](https://arxiv.org/abs/1701.05517) helpful for more information on discretized mixture of logistics.\n",
        "\n",
        "**Provide the same set of corresponding deliverables as part (a)**"
      ]
    },
    {
      "cell_type": "markdown",
      "metadata": {
        "id": "f4dnQIg_TDx6"
      },
      "source": [
        "### Solution\n",
        "Fill out the function below and return the necessary arguments. Feel free to create more cells if need be."
      ]
    },
    {
      "cell_type": "code",
      "source": [
        "class DiscreteMixtureFitter(nn.Module):\n",
        "  def __init__(self, d, num_mix=4):\n",
        "    super().__init__()\n",
        "    self.d = d\n",
        "\n",
        "    self.weights, self.means, self.scales = torch.zeros(num_mix).repeat(3, 1)\n",
        "\n",
        "  def mix(self, x):\n",
        "    def mix_row(param):\n",
        "      pi, mu, s = param\n",
        "      a = x + 0.5 if x != self.d - 1 else float('inf')\n",
        "      b = x - 0.5 if x != 0 else float('-inf')\n",
        "      return pi * (F.sigmoid((a - mu) / s) - F.sigmoid((b - mu) / s))\n",
        "\n",
        "    torch.stack(self.weights, self.means, self.scales).apply()\n",
        "    return torch.sum(self.logits.apply(mix_row))\n",
        "\n",
        "  def forward(self):\n",
        "    return torch.tensor([self.mix(x) for x in range(self.d)])\n",
        "\n",
        "  def loss(self, target):\n",
        "    # Must use UNORMALIZED logits\n",
        "    # Size: logits (N, C), target (N)\n",
        "    logits = self.logits.repeat(target.shape[0], 1)\n",
        "    return F.cross_entropy(logits, target)\n"
      ],
      "metadata": {
        "id": "pZ55tflRlnCF"
      },
      "execution_count": null,
      "outputs": []
    },
    {
      "cell_type": "code",
      "metadata": {
        "id": "uAvMQDJJrjNo"
      },
      "source": [
        "def q1_b(train_data, test_data, d, dset_id):\n",
        "  \"\"\"\n",
        "  train_data: An (n_train,) numpy array of integers in {0, ..., d-1}\n",
        "  test_data: An (n_test,) numpy array of integers in {0, .., d-1}\n",
        "  d: The number of possible discrete values for random variable x\n",
        "  dset_id: An identifying number of which dataset is given (1 or 2). Most likely\n",
        "           used to set different hyperparameters for different datasets\n",
        "\n",
        "  Returns\n",
        "  - a (# of training iterations,) numpy array of train_losses evaluated every minibatch\n",
        "  - a (# of epochs + 1,) numpy array of test_losses evaluated once at initialization and after each epoch\n",
        "  - a numpy array of size (d,) of model probabilities\n",
        "  \"\"\"\n",
        "\n",
        "  \"\"\" YOUR CODE HERE \"\"\"\n",
        "  hyper = {\n",
        "    1: {\n",
        "      \"num_epochs\": 30,\n",
        "      \"batch_size\": 128,\n",
        "      \"learning_rate\": 0.05\n",
        "    },\n",
        "    2: {\n",
        "      \"num_epochs\": 20,\n",
        "      \"batch_size\": 128,\n",
        "      \"learning_rate\": 0.003,\n",
        "    },\n",
        "  }\n",
        "\n",
        "  model = DiscreteMixtureFitter(d)\n",
        "\n",
        "  train_loader = DataLoader(\n",
        "    train_data,\n",
        "    batch_size=hyper[dset_id][\"batch_size\"],\n",
        "    shuffle=True,\n",
        "  )\n",
        "  test_loader = DataLoader(\n",
        "    test_data,\n",
        "    batch_size=hyper[dset_id][\"batch_size\"],\n",
        "  )\n",
        "\n",
        "  train_losses, test_losses = train_epochs(model, train_loader, test_loader, hyper[dset_id])\n",
        "\n",
        "  return np.array(train_losses), np.array(test_losses), model().detach().numpy()"
      ],
      "execution_count": null,
      "outputs": []
    },
    {
      "cell_type": "markdown",
      "metadata": {
        "id": "VwZyhlewTHH4"
      },
      "source": [
        "### Results\n",
        "\n",
        "Once you've implemented `q1_b`, execute the cells below to visualize and save your results\n",
        "\n"
      ]
    },
    {
      "cell_type": "code",
      "metadata": {
        "id": "wnnQORaG6Ouf",
        "outputId": "35672549-f50f-42e0-e64d-eef47f1b6b61",
        "colab": {
          "base_uri": "https://localhost:8080/",
          "height": 322
        }
      },
      "source": [
        "q1_save_results(1, 'b', q1_b)"
      ],
      "execution_count": null,
      "outputs": [
        {
          "output_type": "error",
          "ename": "AttributeError",
          "evalue": "ignored",
          "traceback": [
            "\u001b[0;31m---------------------------------------------------------------------------\u001b[0m",
            "\u001b[0;31mAttributeError\u001b[0m                            Traceback (most recent call last)",
            "\u001b[0;32m<ipython-input-25-fb6470753634>\u001b[0m in \u001b[0;36m<cell line: 1>\u001b[0;34m()\u001b[0m\n\u001b[0;32m----> 1\u001b[0;31m \u001b[0mq1_save_results\u001b[0m\u001b[0;34m(\u001b[0m\u001b[0;36m1\u001b[0m\u001b[0;34m,\u001b[0m \u001b[0;34m'b'\u001b[0m\u001b[0;34m,\u001b[0m \u001b[0mq1_b\u001b[0m\u001b[0;34m)\u001b[0m\u001b[0;34m\u001b[0m\u001b[0;34m\u001b[0m\u001b[0m\n\u001b[0m",
            "\u001b[0;32m/usr/local/lib/python3.10/dist-packages/deepul/hw1_helper.py\u001b[0m in \u001b[0;36mq1_save_results\u001b[0;34m(dset_type, part, fn)\u001b[0m\n\u001b[1;32m     55\u001b[0m         \u001b[0;32mraise\u001b[0m \u001b[0mException\u001b[0m\u001b[0;34m(\u001b[0m\u001b[0;34m'Invalid dset_type:'\u001b[0m\u001b[0;34m,\u001b[0m \u001b[0mdset_type\u001b[0m\u001b[0;34m)\u001b[0m\u001b[0;34m\u001b[0m\u001b[0;34m\u001b[0m\u001b[0m\n\u001b[1;32m     56\u001b[0m \u001b[0;34m\u001b[0m\u001b[0m\n\u001b[0;32m---> 57\u001b[0;31m     \u001b[0mtrain_losses\u001b[0m\u001b[0;34m,\u001b[0m \u001b[0mtest_losses\u001b[0m\u001b[0;34m,\u001b[0m \u001b[0mdistribution\u001b[0m \u001b[0;34m=\u001b[0m \u001b[0mfn\u001b[0m\u001b[0;34m(\u001b[0m\u001b[0mtrain_data\u001b[0m\u001b[0;34m,\u001b[0m \u001b[0mtest_data\u001b[0m\u001b[0;34m,\u001b[0m \u001b[0md\u001b[0m\u001b[0;34m,\u001b[0m \u001b[0mdset_type\u001b[0m\u001b[0;34m)\u001b[0m\u001b[0;34m\u001b[0m\u001b[0;34m\u001b[0m\u001b[0m\n\u001b[0m\u001b[1;32m     58\u001b[0m     \u001b[0;32massert\u001b[0m \u001b[0mnp\u001b[0m\u001b[0;34m.\u001b[0m\u001b[0mallclose\u001b[0m\u001b[0;34m(\u001b[0m\u001b[0mnp\u001b[0m\u001b[0;34m.\u001b[0m\u001b[0msum\u001b[0m\u001b[0;34m(\u001b[0m\u001b[0mdistribution\u001b[0m\u001b[0;34m)\u001b[0m\u001b[0;34m,\u001b[0m \u001b[0;36m1\u001b[0m\u001b[0;34m)\u001b[0m\u001b[0;34m,\u001b[0m \u001b[0;34mf'Distribution sums to {np.sum(distribution)} != 1'\u001b[0m\u001b[0;34m\u001b[0m\u001b[0;34m\u001b[0m\u001b[0m\n\u001b[1;32m     59\u001b[0m \u001b[0;34m\u001b[0m\u001b[0m\n",
            "\u001b[0;32m<ipython-input-22-1f539212be2c>\u001b[0m in \u001b[0;36mq1_b\u001b[0;34m(train_data, test_data, d, dset_id)\u001b[0m\n\u001b[1;32m     39\u001b[0m   )\n\u001b[1;32m     40\u001b[0m \u001b[0;34m\u001b[0m\u001b[0m\n\u001b[0;32m---> 41\u001b[0;31m   \u001b[0mtrain_losses\u001b[0m\u001b[0;34m,\u001b[0m \u001b[0mtest_losses\u001b[0m \u001b[0;34m=\u001b[0m \u001b[0mtrain_epochs\u001b[0m\u001b[0;34m(\u001b[0m\u001b[0mmodel\u001b[0m\u001b[0;34m,\u001b[0m \u001b[0mtrain_loader\u001b[0m\u001b[0;34m,\u001b[0m \u001b[0mtest_loader\u001b[0m\u001b[0;34m,\u001b[0m \u001b[0mhyper\u001b[0m\u001b[0;34m[\u001b[0m\u001b[0mdset_id\u001b[0m\u001b[0;34m]\u001b[0m\u001b[0;34m)\u001b[0m\u001b[0;34m\u001b[0m\u001b[0;34m\u001b[0m\u001b[0m\n\u001b[0m\u001b[1;32m     42\u001b[0m \u001b[0;34m\u001b[0m\u001b[0m\n\u001b[1;32m     43\u001b[0m   \u001b[0;32mreturn\u001b[0m \u001b[0mnp\u001b[0m\u001b[0;34m.\u001b[0m\u001b[0marray\u001b[0m\u001b[0;34m(\u001b[0m\u001b[0mtrain_losses\u001b[0m\u001b[0;34m)\u001b[0m\u001b[0;34m,\u001b[0m \u001b[0mnp\u001b[0m\u001b[0;34m.\u001b[0m\u001b[0marray\u001b[0m\u001b[0;34m(\u001b[0m\u001b[0mtest_losses\u001b[0m\u001b[0;34m)\u001b[0m\u001b[0;34m,\u001b[0m \u001b[0mmodel\u001b[0m\u001b[0;34m(\u001b[0m\u001b[0;34m)\u001b[0m\u001b[0;34m.\u001b[0m\u001b[0mdetach\u001b[0m\u001b[0;34m(\u001b[0m\u001b[0;34m)\u001b[0m\u001b[0;34m.\u001b[0m\u001b[0mnumpy\u001b[0m\u001b[0;34m(\u001b[0m\u001b[0;34m)\u001b[0m\u001b[0;34m\u001b[0m\u001b[0;34m\u001b[0m\u001b[0m\n",
            "\u001b[0;32m<ipython-input-20-39848376bf8e>\u001b[0m in \u001b[0;36mtrain_epochs\u001b[0;34m(model, train_loader, test_loader, hyper)\u001b[0m\n\u001b[1;32m     53\u001b[0m \u001b[0;34m\u001b[0m\u001b[0m\n\u001b[1;32m     54\u001b[0m   \u001b[0;32mfor\u001b[0m \u001b[0mepoch\u001b[0m \u001b[0;32min\u001b[0m \u001b[0mrange\u001b[0m\u001b[0;34m(\u001b[0m\u001b[0mnum_epochs\u001b[0m\u001b[0;34m)\u001b[0m\u001b[0;34m:\u001b[0m\u001b[0;34m\u001b[0m\u001b[0;34m\u001b[0m\u001b[0m\n\u001b[0;32m---> 55\u001b[0;31m     \u001b[0mtrain_losses\u001b[0m\u001b[0;34m.\u001b[0m\u001b[0mextend\u001b[0m\u001b[0;34m(\u001b[0m\u001b[0mtrain\u001b[0m\u001b[0;34m(\u001b[0m\u001b[0mmodel\u001b[0m\u001b[0;34m,\u001b[0m \u001b[0mtrain_loader\u001b[0m\u001b[0;34m,\u001b[0m \u001b[0mcriterion\u001b[0m\u001b[0;34m,\u001b[0m \u001b[0moptimizer\u001b[0m\u001b[0;34m)\u001b[0m\u001b[0;34m)\u001b[0m\u001b[0;34m\u001b[0m\u001b[0;34m\u001b[0m\u001b[0m\n\u001b[0m\u001b[1;32m     56\u001b[0m     \u001b[0mtest_loss\u001b[0m \u001b[0;34m=\u001b[0m \u001b[0mtest\u001b[0m\u001b[0;34m(\u001b[0m\u001b[0mmodel\u001b[0m\u001b[0;34m,\u001b[0m \u001b[0mtest_loader\u001b[0m\u001b[0;34m,\u001b[0m \u001b[0mcriterion\u001b[0m\u001b[0;34m)\u001b[0m\u001b[0;34m\u001b[0m\u001b[0;34m\u001b[0m\u001b[0m\n\u001b[1;32m     57\u001b[0m     \u001b[0mtest_losses\u001b[0m\u001b[0;34m.\u001b[0m\u001b[0mappend\u001b[0m\u001b[0;34m(\u001b[0m\u001b[0mtest_loss\u001b[0m\u001b[0;34m)\u001b[0m\u001b[0;34m\u001b[0m\u001b[0;34m\u001b[0m\u001b[0m\n",
            "\u001b[0;32m<ipython-input-20-39848376bf8e>\u001b[0m in \u001b[0;36mtrain\u001b[0;34m(model, data_loader, criterion, optimizer)\u001b[0m\n\u001b[1;32m     25\u001b[0m   \u001b[0mtrain_losses\u001b[0m \u001b[0;34m=\u001b[0m \u001b[0;34m[\u001b[0m\u001b[0;34m]\u001b[0m\u001b[0;34m\u001b[0m\u001b[0;34m\u001b[0m\u001b[0m\n\u001b[1;32m     26\u001b[0m   \u001b[0;32mfor\u001b[0m \u001b[0mdata\u001b[0m \u001b[0;32min\u001b[0m \u001b[0mdata_loader\u001b[0m\u001b[0;34m:\u001b[0m\u001b[0;34m\u001b[0m\u001b[0;34m\u001b[0m\u001b[0m\n\u001b[0;32m---> 27\u001b[0;31m     \u001b[0mloss\u001b[0m \u001b[0;34m=\u001b[0m \u001b[0mmodel\u001b[0m\u001b[0;34m.\u001b[0m\u001b[0mloss\u001b[0m\u001b[0;34m(\u001b[0m\u001b[0mdata\u001b[0m\u001b[0;34m)\u001b[0m\u001b[0;34m\u001b[0m\u001b[0;34m\u001b[0m\u001b[0m\n\u001b[0m\u001b[1;32m     28\u001b[0m \u001b[0;34m\u001b[0m\u001b[0m\n\u001b[1;32m     29\u001b[0m     \u001b[0moptimizer\u001b[0m\u001b[0;34m.\u001b[0m\u001b[0mzero_grad\u001b[0m\u001b[0;34m(\u001b[0m\u001b[0;34m)\u001b[0m\u001b[0;34m\u001b[0m\u001b[0;34m\u001b[0m\u001b[0m\n",
            "\u001b[0;32m/usr/local/lib/python3.10/dist-packages/torch/nn/modules/module.py\u001b[0m in \u001b[0;36m__getattr__\u001b[0;34m(self, name)\u001b[0m\n\u001b[1;32m   1612\u001b[0m             \u001b[0;32mif\u001b[0m \u001b[0mname\u001b[0m \u001b[0;32min\u001b[0m \u001b[0mmodules\u001b[0m\u001b[0;34m:\u001b[0m\u001b[0;34m\u001b[0m\u001b[0;34m\u001b[0m\u001b[0m\n\u001b[1;32m   1613\u001b[0m                 \u001b[0;32mreturn\u001b[0m \u001b[0mmodules\u001b[0m\u001b[0;34m[\u001b[0m\u001b[0mname\u001b[0m\u001b[0;34m]\u001b[0m\u001b[0;34m\u001b[0m\u001b[0;34m\u001b[0m\u001b[0m\n\u001b[0;32m-> 1614\u001b[0;31m         raise AttributeError(\"'{}' object has no attribute '{}'\".format(\n\u001b[0m\u001b[1;32m   1615\u001b[0m             type(self).__name__, name))\n\u001b[1;32m   1616\u001b[0m \u001b[0;34m\u001b[0m\u001b[0m\n",
            "\u001b[0;31mAttributeError\u001b[0m: 'DiscreteMixtureFitter' object has no attribute 'loss'"
          ]
        }
      ]
    },
    {
      "cell_type": "code",
      "metadata": {
        "id": "1jLGoDa46RM6"
      },
      "source": [
        "q1_save_results(2, 'b', q1_b)"
      ],
      "execution_count": null,
      "outputs": []
    },
    {
      "cell_type": "markdown",
      "metadata": {
        "id": "bk6l6G30tEIg"
      },
      "source": [
        "# Question 2: MADE\n",
        "\n",
        "In this question, you will implement [MADE](https://arxiv.org/abs/1502.03509). In the first part, you will use MADE to model a simple 2D joint distribution, and in the second half, you will train MADE on image datasets."
      ]
    },
    {
      "cell_type": "markdown",
      "metadata": {
        "id": "ZkQMNxln-UxX"
      },
      "source": [
        "## Part (a) Fitting 2D Data\n",
        "\n",
        "First, you will work with bivariate data of the form $x = (x_0,x_1)$, where $x_0, x_1 \\in \\{0, \\dots, d\\}$. We can easily visualize a 2D dataset by plotting a 2D histogram. Run the cell below to visualize our datasets."
      ]
    },
    {
      "cell_type": "code",
      "metadata": {
        "id": "alF9C1t-tEys"
      },
      "source": [
        "visualize_q2a_data(dset_type=1)\n",
        "visualize_q2a_data(dset_type=2)"
      ],
      "execution_count": null,
      "outputs": []
    },
    {
      "cell_type": "markdown",
      "metadata": {
        "id": "sDywq5JZR4Eg"
      },
      "source": [
        "Implement and train a MADE model through maximum likelihood to represent $p(x_0, x_1)$ on the given datasets, with any autoregressive ordering of your choosing.\n",
        "\n",
        "A few notes:\n",
        "* You do not need to do training with multiple masks\n",
        "* You made find it useful to one-hot encode your inputs.\n",
        "\n",
        "**You will provide these deliverables**\n",
        "\n",
        "\n",
        "1.   Over the course of training, record the average negative log-likelihood (nats / dim) of the training data (per minibatch) and test data (for your entire test set). Code is provided that automatically plots the training curves.\n",
        "2.   Report the final test set performance of your final model\n",
        "3. Visualize the learned 2D distribution by plotting a 2D heatmap\n"
      ]
    },
    {
      "cell_type": "markdown",
      "metadata": {
        "id": "fHHxHqSJTSAa"
      },
      "source": [
        "### Solution\n",
        "Fill out the function below and return the necessary arguments. Feel free to create more cells if need be."
      ]
    },
    {
      "cell_type": "code",
      "metadata": {
        "id": "wtFZU2ymB6_t"
      },
      "source": [
        "def q2_a(train_data, test_data, d, dset_id):\n",
        "  \"\"\"\n",
        "  train_data: An (n_train, 2) numpy array of integers in {0, ..., d-1}\n",
        "  test_data: An (n_test, 2) numpy array of integers in {0, .., d-1}\n",
        "  d: The number of possible discrete values for each random variable x1 and x2\n",
        "  dset_id: An identifying number of which dataset is given (1 or 2). Most likely\n",
        "           used to set different hyperparameters for different datasets\n",
        "\n",
        "  Returns\n",
        "  - a (# of training iterations,) numpy array of train_losses evaluated every minibatch\n",
        "  - a (# of epochs + 1,) numpy array of test_losses evaluated once at initialization and after each epoch\n",
        "  - a numpy array of size (d, d) of probabilities (the learned joint distribution)\n",
        "  \"\"\"\n",
        "\n",
        "  \"\"\" YOUR CODE HERE \"\"\""
      ],
      "execution_count": null,
      "outputs": []
    },
    {
      "cell_type": "markdown",
      "metadata": {
        "id": "Iso12bj4Tup8"
      },
      "source": [
        "### Results\n",
        "\n",
        "Once you've implemented `q2_a`, execute the cells below to visualize and save your results\n",
        "\n"
      ]
    },
    {
      "cell_type": "code",
      "metadata": {
        "id": "njfGrZ74Jm2d"
      },
      "source": [
        "q2_save_results(1, 'a', q2_a)"
      ],
      "execution_count": null,
      "outputs": []
    },
    {
      "cell_type": "code",
      "metadata": {
        "id": "o6-NJJnIJoX6"
      },
      "source": [
        "q2_save_results(2, 'a', q2_a)"
      ],
      "execution_count": null,
      "outputs": []
    },
    {
      "cell_type": "markdown",
      "metadata": {
        "id": "G4HezJRtW7H2"
      },
      "source": [
        "## Part (b) Shapes and MNIST\n",
        "Now, we will work with a higher dimensional datasets, namely a shape dataset and MNIST. Run the cell below to visualize the two datasets"
      ]
    },
    {
      "cell_type": "code",
      "metadata": {
        "id": "F81U6yR1UUVq"
      },
      "source": [
        "visualize_q2b_data(1)\n",
        "visualize_q2b_data(2)"
      ],
      "execution_count": null,
      "outputs": []
    },
    {
      "cell_type": "markdown",
      "metadata": {
        "id": "qrJPvrYhUZYO"
      },
      "source": [
        "Implement and train a MADE model on the given binary image datasets. Given some binary image of height $H$ and width $W$, we can represent image $x\\in \\{0, 1\\}^{H\\times W}$ as a flattened binary vector $x\\in \\{0, 1\\}^{HW}$ to input into MADE to model $p_\\theta(x) = \\prod_{i=1}^{HW} p_\\theta(x_i|x_{<i})$. Your model should output logits, after which you could apply a sigmoid over 1 logit, or a softmax over two logits (either is fine).\n",
        "\n",
        "**You will provide these deliverables**\n",
        "\n",
        "\n",
        "1.   Over the course of training, record the average negative log-likelihood (nats / dim) of the training data (per minibatch) and test data (for your entire test set). Code is provided that automatically plots the training curves.\n",
        "2.   Report the final test set performance of your final model\n",
        "3. 100 samples from the final trained model"
      ]
    },
    {
      "cell_type": "markdown",
      "metadata": {
        "id": "uEgF3FCXV8zb"
      },
      "source": [
        "### Solution\n",
        "Fill out the function below and return the necessary arguments. Feel free to create more cells if need be."
      ]
    },
    {
      "cell_type": "code",
      "metadata": {
        "id": "WHLjAxjRVx_S"
      },
      "source": [
        "def q2_b(train_data, test_data, image_shape, dset_id):\n",
        "  \"\"\"\n",
        "  train_data: A (n_train, H, W, 1) uint8 numpy array of binary images with values in {0, 1}\n",
        "  test_data: An (n_test, H, W, 1) uint8 numpy array of binary images with values in {0, 1}\n",
        "  image_shape: (H, W), height and width of the image\n",
        "  dset_id: An identifying number of which dataset is given (1 or 2). Most likely\n",
        "           used to set different hyperparameters for different datasets\n",
        "\n",
        "  Returns\n",
        "  - a (# of training iterations,) numpy array of train_losses evaluated every minibatch\n",
        "  - a (# of epochs + 1,) numpy array of test_losses evaluated once at initialization and after each epoch\n",
        "  - a numpy array of size (100, H, W, 1) of samples with values in {0, 1}\n",
        "  \"\"\"\n",
        "\n",
        "  \"\"\" YOUR CODE HERE \"\"\""
      ],
      "execution_count": null,
      "outputs": []
    },
    {
      "cell_type": "markdown",
      "metadata": {
        "id": "iBfCSKFnV-Mz"
      },
      "source": [
        "### Results\n",
        "\n",
        "Once you've implemented `q2_b`, execute the cells below to visualize and save your results\n",
        "\n"
      ]
    },
    {
      "cell_type": "code",
      "metadata": {
        "id": "frAYhilEwG2x"
      },
      "source": [
        "q2_save_results(1, 'b', q2_b)"
      ],
      "execution_count": null,
      "outputs": []
    },
    {
      "cell_type": "code",
      "metadata": {
        "id": "B5nBFeI7wJeN"
      },
      "source": [
        "q2_save_results(2, 'b', q2_b)"
      ],
      "execution_count": null,
      "outputs": []
    },
    {
      "cell_type": "markdown",
      "metadata": {
        "id": "dP8lmmk7Xrct"
      },
      "source": [
        "# Question 3 PixelCNNs"
      ]
    },
    {
      "cell_type": "markdown",
      "metadata": {
        "id": "4wnyhDNqcAcw"
      },
      "source": [
        "Now, you will train more powerful PixleCNN models on the shapes dataset and MNIST. In addition, we will extend to modelling colored datasets with and without channel conditioning.\n",
        "\n"
      ]
    },
    {
      "cell_type": "markdown",
      "metadata": {
        "id": "50WsEzhx4Uua"
      },
      "source": [
        "## Part (a) PixelCNN on Shapes and MNIST\n",
        "In this part, implement a simple PixelCNN architecture to model binary MNIST and shapes images (same as Q2(b), but with a PixelCNN).\n",
        "\n",
        "We recommend the following network design:\n",
        "* A $7 \\times 7$ masked type A convolution\n",
        "* $5$ $7 \\times 7$ masked type B convolutions\n",
        "* $2$ $1 \\times 1$ masked type B convolutions\n",
        "* Appropriate ReLU nonlinearities in-between\n",
        "* 64 convolutional filters\n",
        "\n",
        "And the following hyperparameters:\n",
        "* Batch size 128\n",
        "* Learning rate $10^{-3}$\n",
        "* 10 epochs\n",
        "* Adam Optimizer (this applies to all PixelCNN models trained in future parts)\n",
        "\n",
        "Your model should output logits, after which you could apply a sigmoid over 1 logit, or a softmax over two logits (either is fine). It may also help to scale your input to $[-1, 1]$ before running it through the network.\n",
        "\n",
        "Training on the shapes dataset should be quick, and MNIST should take around 10 minutes\n",
        "\n",
        "**You will provide these deliverables**\n",
        "\n",
        "\n",
        "1.   Over the course of training, record the average negative log-likelihood (nats / dim) of the training data (per minibatch) and test data (for your entire test set). Code is provided that automatically plots the training curves.\n",
        "2.   Report the final test set performance of your final model\n",
        "3. 100 samples from the final trained model\n",
        "\n"
      ]
    },
    {
      "cell_type": "markdown",
      "metadata": {
        "id": "EleefdNuciyc"
      },
      "source": [
        "### Solution\n",
        "Fill out the function below and return the necessary arguments. Feel free to create more cells if need be."
      ]
    },
    {
      "cell_type": "code",
      "metadata": {
        "id": "NWualafa-tpD"
      },
      "source": [
        "def q3_a(train_data, test_data, image_shape, dset_id):\n",
        "  \"\"\"\n",
        "  train_data: A (n_train, H, W, 1) uint8 numpy array of binary images with values in {0, 1}\n",
        "  test_data: A (n_test, H, W, 1) uint8 numpy array of binary images with values in {0, 1}\n",
        "  image_shape: (H, W), height and width of the image\n",
        "  dset_id: An identifying number of which dataset is given (1 or 2). Most likely\n",
        "           used to set different hyperparameters for different datasets\n",
        "\n",
        "  Returns\n",
        "  - a (# of training iterations,) numpy array of train_losses evaluated every minibatch\n",
        "  - a (# of epochs + 1,) numpy array of test_losses evaluated once at initialization and after each epoch\n",
        "  - a numpy array of size (100, H, W, 1) of samples with values in {0, 1}\n",
        "  \"\"\"\n",
        "\n",
        "  \"\"\" YOUR CODE HERE \"\"\""
      ],
      "execution_count": null,
      "outputs": []
    },
    {
      "cell_type": "markdown",
      "metadata": {
        "id": "v0EPVfz1cpq0"
      },
      "source": [
        "### Results\n",
        "\n",
        "Once you've implemented `q3_a`, execute the cells below to visualize and save your results\n",
        "\n"
      ]
    },
    {
      "cell_type": "code",
      "metadata": {
        "id": "xNxXqVZpAd_V"
      },
      "source": [
        "q3a_save_results(1, q3_a)"
      ],
      "execution_count": null,
      "outputs": []
    },
    {
      "cell_type": "code",
      "metadata": {
        "id": "OCyQzhJdAfiJ"
      },
      "source": [
        "q3a_save_results(2, q3_a)"
      ],
      "execution_count": null,
      "outputs": []
    },
    {
      "cell_type": "markdown",
      "metadata": {
        "id": "8J7qlqlODNgL"
      },
      "source": [
        "## Part (b) PixelCNN on Colored Shapes and MNIST: Independent Color Channels\n",
        "\n",
        "For the next two parts, we'll work with color images (shapes and MNIST). Run the cell below to visualize the dataset."
      ]
    },
    {
      "cell_type": "code",
      "metadata": {
        "id": "80f_7uZWkDSv"
      },
      "source": [
        "visualize_q3b_data(1)\n",
        "visualize_q3b_data(2)"
      ],
      "execution_count": null,
      "outputs": []
    },
    {
      "cell_type": "markdown",
      "metadata": {
        "id": "3Y6NggR6gmU9"
      },
      "source": [
        "Now, implement a PixelCNN to support RGB color channels (or augment your existing implementation). **First, implement a PixelCNN that assumes color channels as independent.** More formally, we model the following parameterized distribution:\n",
        "\n",
        "$$p_\\theta(x) = \\prod_{i=1}^{HW}\\prod_{c=1}^C p_\\theta(x_i^c | x_{<i})$$\n",
        "\n",
        "Here are some tips that you may find useful for designing and training these models:\n",
        "* You will need a 4-way softmax for every prediction, as opposed to a 256-way softmax in the PixelCNN paper, since the dataset is quantized to two bits per color channel\n",
        "* You can set number of filters for each convolutions to 120. You can use the ReLU nonlinearity throughout.\n",
        "* Use a stack of 8 residual block architecture from [Figure 5](https://arxiv.org/abs/1601.06759) but with 7 x 7 masked convolutions in the middle instead of 3 x 3 masked convolutions\n",
        "* Consider using [layer normalization](https://arxiv.org/abs/1607.06450) to improve performance. However, be careful to maintain the autoregressive property.\n",
        "* With a learning rate of $10^{-3}$ and a batch size of 128, it should take a few minutes to run on the shapes dataset, and about 50-60 minutes on MNIST.\n",
        "\n",
        "**You will provide these deliverables**\n",
        "\n",
        "\n",
        "1.   Over the course of training, record the average negative log-likelihood (nats / dim) of the training data (per minibatch) and test data (for your entire test set). Code is provided that automatically plots the training curves.\n",
        "2.   Report the final test set performance of your final model\n",
        "3. 100 samples from the final trained model\n",
        "\n"
      ]
    },
    {
      "cell_type": "markdown",
      "metadata": {
        "id": "GwJQG9i1iQOa"
      },
      "source": [
        "### Solution\n",
        "Fill out the function below and return the necessary arguments. Feel free to create more cells if need be."
      ]
    },
    {
      "cell_type": "code",
      "metadata": {
        "id": "NE99xTPJDLM7"
      },
      "source": [
        "def q3_b(train_data, test_data, image_shape, dset_id):\n",
        "  \"\"\"\n",
        "  train_data: A (n_train, H, W, C) uint8 numpy array of color images with values in {0, 1, 2, 3}\n",
        "  test_data: A (n_test, H, W, C) uint8 numpy array of color images with values in {0, 1, 2, 3}\n",
        "  image_shape: (H, W, C), height, width, and # of channels of the image\n",
        "  dset_id: An identifying number of which dataset is given (1 or 2). Most likely\n",
        "           used to set different hyperparameters for different datasets\n",
        "\n",
        "  Returns\n",
        "  - a (# of training iterations,) numpy array of train_losses evaluated every minibatch\n",
        "  - a (# of epochs + 1,) numpy array of test_losses evaluated once at initialization and after each epoch\n",
        "  - a numpy array of size (100, H, W, C) of samples with values in {0, 1, 2, 3}\n",
        "  \"\"\"\n",
        "\n",
        "  \"\"\" YOUR CODE HERE \"\"\""
      ],
      "execution_count": null,
      "outputs": []
    },
    {
      "cell_type": "markdown",
      "metadata": {
        "id": "mGp2OsLKiToN"
      },
      "source": [
        "### Results\n",
        "\n",
        "Once you've implemented `q3_b`, execute the cells below to visualize and save your results\n",
        "\n"
      ]
    },
    {
      "cell_type": "code",
      "metadata": {
        "id": "kW-k-59qJaKN"
      },
      "source": [
        "q3bc_save_results(1, 'b', q3_b)"
      ],
      "execution_count": null,
      "outputs": []
    },
    {
      "cell_type": "code",
      "metadata": {
        "id": "It_iPXaZjlk0"
      },
      "source": [
        "q3bc_save_results(2, 'b', q3_b)"
      ],
      "execution_count": null,
      "outputs": []
    },
    {
      "cell_type": "markdown",
      "metadata": {
        "id": "HlX23th4JbRy"
      },
      "source": [
        "## Part (c) PixelCNN on Colored Shapes and MNIST: Autoregressive Color Channels\n",
        "\n",
        "Now, implement a PixelCNN that models **dependent** color channels. Formally, we model the parameterized distribution\n",
        "\n",
        "$$p_\\theta(x) = \\prod_{i=1}^{HW}\\prod_{c=1}^C p_\\theta(x_i^c | x_i^{<c}, x_{<i})$$\n",
        "\n",
        "To do so, change your masking scheme for the center pixel. Split the filters into 3 groups, only allowing each group to see the groups before (or including the current group, for type B masks) to maintain the autoregressive property.\n",
        "\n",
        "Training times and hyperparameter settings should be the same as part (b).\n",
        "\n",
        "**You will provide these deliverables**\n",
        "\n",
        "\n",
        "1.   Over the course of training, record the average negative log-likelihood (nats / dim) of the training data (per minibatch) and test data (for your entire test set). Code is provided that automatically plots the training curves.\n",
        "2.   Report the final test set performance of your final model\n",
        "3. 100 samples from the final trained model\n",
        "\n"
      ]
    },
    {
      "cell_type": "markdown",
      "metadata": {
        "id": "_4VvvEJQK3Bb"
      },
      "source": [
        "### Solution\n",
        "Fill out the function below and return the necessary arguments. Feel free to create more cells if need be."
      ]
    },
    {
      "cell_type": "code",
      "metadata": {
        "id": "kqzuSDBUK3dL"
      },
      "source": [
        "def q3_c(train_data, test_data, image_shape, dset_id):\n",
        "  \"\"\"\n",
        "  train_data: A (n_train, H, W, C) uint8 numpy array of color images with values in {0, 1, 2, 3}\n",
        "  test_data: A (n_test, H, W, C) uint8 numpy array of color images with values in {0, 1, 2, 3}\n",
        "  image_shape: (H, W, C), height, width, and # of channels of the image\n",
        "  dset_id: An identifying number of which dataset is given (1 or 2). Most likely\n",
        "           used to set different hyperparameters for different datasets\n",
        "\n",
        "  Returns\n",
        "  - a (# of training iterations,) numpy array of train_losses evaluated every minibatch\n",
        "  - a (# of epochs + 1,) numpy array of test_losses evaluated once at initialization and after each epoch\n",
        "  - a numpy array of size (100, H, W, C) of samples with values in {0, 1, 2, 3}\n",
        "  \"\"\"\n",
        "\n",
        "  \"\"\" YOUR CODE HERE \"\"\""
      ],
      "execution_count": null,
      "outputs": []
    },
    {
      "cell_type": "markdown",
      "metadata": {
        "id": "UTB-VUBnK321"
      },
      "source": [
        "### Results\n",
        "\n",
        "Once you've implemented `q3_c`, execute the cells below to visualize and save your results\n",
        "\n"
      ]
    },
    {
      "cell_type": "code",
      "metadata": {
        "id": "TXxpdINJK4NU"
      },
      "source": [
        "q3bc_save_results(1, 'c', q3_c)"
      ],
      "execution_count": null,
      "outputs": []
    },
    {
      "cell_type": "code",
      "metadata": {
        "id": "Q-Yh9D0G4PxQ"
      },
      "source": [
        "q3bc_save_results(2, 'c', q3_c)"
      ],
      "execution_count": null,
      "outputs": []
    },
    {
      "cell_type": "markdown",
      "metadata": {
        "id": "_IhTtaEXF633"
      },
      "source": [
        "## Part (d) Conditional PixelCNNs\n",
        "\n",
        "In this part, implement and train a **class-conditional** PixelCNN on binary MNIST. Condition on a class label by adding a conditional bias in each convolutional layer. More precisely, in the $\\ell$th convolutional layer, compute:\n",
        "$$W_\\ell * x + b_\\ell + V_\\ell y$$\n",
        "where $W_\\ell * x + b_\\ell$ is a masked convolution (as in previous parts), $V$ is a 2D weight matrix, and $y$ is a one-hot encoding of the class label (where the conditional bias is broadcasted spacially and added channel-wise).\n",
        "\n",
        "You can use a PixelCNN architecture similar to part (a). Training on the shapes dataset should be quick, and MNIST should take around 10-15 minutes\n",
        "\n",
        "\n",
        "**You will provide these deliverables**\n",
        "\n",
        "\n",
        "1.   Over the course of training, record the average negative log-likelihood (nats / dim) of the training data (per minibatch) and test data (for your entire test set). Code is provided that automatically plots the training curves.\n",
        "2.   Report the final test set performance of your final model\n",
        "3. 100 samples from the final trained model"
      ]
    },
    {
      "cell_type": "markdown",
      "metadata": {
        "id": "8U3JwQV1izoA"
      },
      "source": [
        "### Solution\n",
        "Fill out the function below and return the necessary arguments. Feel free to create more cells if need be."
      ]
    },
    {
      "cell_type": "code",
      "metadata": {
        "id": "En2kM8jhF8ri"
      },
      "source": [
        "def q3_d(train_data, train_labels, test_data, test_labels, image_shape, n_classes, dset_id):\n",
        "  \"\"\"\n",
        "  train_data: A (n_train, H, W, 1) numpy array of binary images with values in {0, 1}\n",
        "  train_labels: A (n_train,) numpy array of class labels\n",
        "  test_data: A (n_test, H, W, 1) numpy array of binary images with values in {0, 1}\n",
        "  test_labels: A (n_test,) numpy array of class labels\n",
        "  image_shape: (H, W), height and width\n",
        "  n_classes: number of classes (4 or 10)\n",
        "  dset_id: An identifying number of which dataset is given (1 or 2). Most likely\n",
        "           used to set different hyperparameters for different datasets\n",
        "\n",
        "  Returns\n",
        "  - a (# of training iterations,) numpy array of train_losses evaluated every minibatch\n",
        "  - a (# of epochs + 1,) numpy array of test_losses evaluated once at initialization and after each epoch\n",
        "  - a numpy array of size (100, H, C, 1) of samples with values in {0, 1}\n",
        "    where an even number of images of each class are sampled with 100 total\n",
        "  \"\"\"\n",
        "\n",
        "  \"\"\" YOUR CODE HERE \"\"\""
      ],
      "execution_count": null,
      "outputs": []
    },
    {
      "cell_type": "markdown",
      "metadata": {
        "id": "LNSDCpfeiY0-"
      },
      "source": [
        "### Results\n",
        "\n",
        "Once you've implemented `q3_d`, execute the cells below to visualize and save your results\n",
        "\n"
      ]
    },
    {
      "cell_type": "code",
      "metadata": {
        "id": "PhonsHCcGC3l"
      },
      "source": [
        "q3d_save_results(1, q3_d)"
      ],
      "execution_count": null,
      "outputs": []
    },
    {
      "cell_type": "code",
      "metadata": {
        "id": "ZtN6ykwn4MQI"
      },
      "source": [
        "q3d_save_results(2, q3_d)"
      ],
      "execution_count": null,
      "outputs": []
    },
    {
      "cell_type": "markdown",
      "metadata": {
        "id": "LMZLcaHwLNNL"
      },
      "source": [
        "# Question 4: Bonus Questions (Optional)"
      ]
    },
    {
      "cell_type": "markdown",
      "metadata": {
        "id": "uZ-DhcsGLTRB"
      },
      "source": [
        "## Part (a) Gated PixelCNN\n",
        "Implement a [Gated PixelCNN](https://arxiv.org/abs/1606.05328) to fix the blind-spot issue, and report training curves, final test loss, and samples."
      ]
    },
    {
      "cell_type": "markdown",
      "metadata": {
        "id": "orP7ESaE5xI8"
      },
      "source": [
        "### Solution\n",
        "Fill out the function below and return the necessary arguments. Feel free to create more cells if need be."
      ]
    },
    {
      "cell_type": "code",
      "metadata": {
        "id": "IlX6Aa6jLOGN"
      },
      "source": [
        "def q4_a(train_data, test_data, image_shape):\n",
        "  \"\"\"\n",
        "  train_data: A (n_train, H, W, C) uint8 numpy array of color images with values in {0, 1, 2, 3}\n",
        "  test_data: A (n_test, H, W, C) uint8 numpy array of color images with values in {0, 1, 2, 3}\n",
        "  image_shape: (H, W, C), height, width, and # of channels of the image\n",
        "\n",
        "  Returns\n",
        "  - a (# of training iterations,) numpy array of train_losses evaluated every minibatch\n",
        "  - a (# of epochs + 1,) numpy array of test_losses evaluated once at initialization and after each epoch\n",
        "  - a numpy array of size (100, H, W, C) of generated samples with values in {0, 1, 2, 3}\n",
        "  \"\"\"\n",
        "  \"\"\" YOUR CODE HERE \"\"\""
      ],
      "execution_count": null,
      "outputs": []
    },
    {
      "cell_type": "markdown",
      "metadata": {
        "id": "AMdpZFJv55k9"
      },
      "source": [
        "### Results\n",
        "\n",
        "Once you've implemented `q4_a`, execute the cells below to visualize and save your results\n",
        "\n"
      ]
    },
    {
      "cell_type": "code",
      "metadata": {
        "id": "zUjIxe2-8v-Q"
      },
      "source": [
        "q4a_save_results(q4_a)"
      ],
      "execution_count": null,
      "outputs": []
    },
    {
      "cell_type": "markdown",
      "metadata": {
        "id": "dwV0spI2Ly0P"
      },
      "source": [
        "## Part (b) Grayscale PixelcNN\n",
        "Train a [Grayscale PixelCNN](https://arxiv.org/abs/1612.08185) on Colored MNIST. You do not need to use their architecture - stacking standard masked convolutions or residual blocks is fine. First, generate a binary image, and then the 2-bit color image."
      ]
    },
    {
      "cell_type": "markdown",
      "metadata": {
        "id": "3DAJGnNv50C2"
      },
      "source": [
        "### Solution\n",
        "Fill out the function below and return the necessary arguments. Feel free to create more cells if need be."
      ]
    },
    {
      "cell_type": "code",
      "metadata": {
        "id": "3Kix-StXL08n"
      },
      "source": [
        "def q4_b(train_data, test_data, image_shape):\n",
        "  \"\"\"\n",
        "  train_data: A (n_train, H, W, C) uint8 numpy array of color images with values in {0, 1, 2, 3}\n",
        "  test_data: A (n_test, H, W, C) uint8 numpy array of color images with values in {0, 1, 2, 3}\n",
        "  image_shape: (H, W, C), height, width, and # of channels of the image\n",
        "\n",
        "  Returns\n",
        "  - a (# of training iterations,) numpy array of train_losses evaluated every minibatch\n",
        "  - a (# of epochs + 1,) numpy array of test_losses evaluated once at initialization and after each epoch\n",
        "  - a numpy array of size (50, H, W, 1) of generated binary images in {0, 1}\n",
        "  - a numpy array of size (50, H, W, C) of conditonally generated color images in {0, 1, 2, 3}\n",
        "  \"\"\"\n",
        "  # You will need to generate the binary image dataset from train_data and test_data\n",
        "\n",
        "  \"\"\" YOUR CODE HERE \"\"\""
      ],
      "execution_count": null,
      "outputs": []
    },
    {
      "cell_type": "markdown",
      "metadata": {
        "id": "LPOmIqtM585K"
      },
      "source": [
        "### Results\n",
        "\n",
        "Once you've implemented `q4_b`, execute the cells below to visualize and save your results\n",
        "\n"
      ]
    },
    {
      "cell_type": "code",
      "metadata": {
        "id": "iwjE85Ux83kv"
      },
      "source": [
        "q4b_save_results(q4_b)"
      ],
      "execution_count": null,
      "outputs": []
    },
    {
      "cell_type": "markdown",
      "metadata": {
        "id": "7J9F2kFBL-p3"
      },
      "source": [
        "## Part (c) Parallel Multiscale PixelCNN\n",
        "One large disadvantage of autoregressive models is their slow sampling speed, since they require one network evaluation per feature. However, there are existing methods which introduce different independence assumptions to allow for parallelism when sampling. Implement a [Parallel PixelCNN](https://arxiv.org/abs/1703.03664) on 56 x 56 MNIST images, with a base size of 7 x 7 and upscaling by a factor of 2. Sampling should be very quick (< 1s). Architectures may vary, but using small PixelCNN implementation similar to previous parts and small ResNets should suffice"
      ]
    },
    {
      "cell_type": "markdown",
      "metadata": {
        "id": "PfQAN_a051BS"
      },
      "source": [
        "### Solution\n",
        "Fill out the function below and return the necessary arguments. Feel free to create more cells if need be."
      ]
    },
    {
      "cell_type": "code",
      "metadata": {
        "id": "Qa0Sm3GIMA5R"
      },
      "source": [
        "def q4_c(train_data, test_data):\n",
        "  \"\"\"\n",
        "  train_data: A (60000, 56, 56, 1) numpy array of grayscale images with values in {0, 1}\n",
        "  test_data: A (10000, 56, 56, 1) numpy array of grayscale images with values in {0, 1}\n",
        "  image_shape: (H, W), height and width\n",
        "\n",
        "  Returns\n",
        "  - a (# of training iterations,) numpy array of train_losses evaluated every minibatch\n",
        "  - a (# of epochs + 1,) numpy array of test_losses evaluated once at initialization and after each epoch\n",
        "  - a numpy array of size (100, 56, 56, 1) of generated samples with values in {0, 1}\n",
        "  \"\"\"\n",
        "\n",
        "  \"\"\" YOUR CODE HERE \"\"\""
      ],
      "execution_count": null,
      "outputs": []
    },
    {
      "cell_type": "markdown",
      "metadata": {
        "id": "2kFqvnZN517N"
      },
      "source": [
        "### Results\n",
        "\n",
        "Once you've implemented `q4_c`, execute the cells below to visualize and save your results\n",
        "\n"
      ]
    },
    {
      "cell_type": "code",
      "metadata": {
        "id": "V73EuNZY5_Ld"
      },
      "source": [
        "q4c_save_results(q4_c)"
      ],
      "execution_count": null,
      "outputs": []
    }
  ]
}